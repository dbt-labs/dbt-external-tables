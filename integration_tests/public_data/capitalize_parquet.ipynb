{
 "cells": [
  {
   "cell_type": "code",
   "execution_count": 1,
   "metadata": {},
   "outputs": [],
   "source": [
    "import polars as pl\n",
    "import os"
   ]
  },
  {
   "cell_type": "code",
   "execution_count": 24,
   "metadata": {},
   "outputs": [
    {
     "data": {
      "text/html": [
       "<div><style>\n",
       ".dataframe > thead > tr,\n",
       ".dataframe > tbody > tr {\n",
       "  text-align: right;\n",
       "  white-space: pre-wrap;\n",
       "}\n",
       "</style>\n",
       "<small>shape: (50, 4)</small><table border=\"1\" class=\"dataframe\"><thead><tr><th>id</th><th>first_name</th><th>last_name</th><th>email</th></tr><tr><td>i64</td><td>str</td><td>str</td><td>str</td></tr></thead><tbody><tr><td>1</td><td>&quot;Jack&quot;</td><td>&quot;Hunter&quot;</td><td>&quot;jhunter0@pbs.org&quot;</td></tr><tr><td>2</td><td>&quot;Kathryn&quot;</td><td>&quot;Walker&quot;</td><td>&quot;kwalker1@ezinearticles.com&quot;</td></tr><tr><td>3</td><td>&quot;Gerald&quot;</td><td>&quot;Ryan&quot;</td><td>&quot;gryan2@com.com&quot;</td></tr><tr><td>4</td><td>&quot;Bonnie&quot;</td><td>&quot;Spencer&quot;</td><td>&quot;bspencer3@ameblo.jp&quot;</td></tr><tr><td>5</td><td>&quot;Harold&quot;</td><td>&quot;Taylor&quot;</td><td>&quot;htaylor4@people.com.cn&quot;</td></tr><tr><td>&hellip;</td><td>&hellip;</td><td>&hellip;</td><td>&hellip;</td></tr><tr><td>46</td><td>&quot;Anthony&quot;</td><td>&quot;Garcia&quot;</td><td>&quot;agarcia19@flavors.me&quot;</td></tr><tr><td>47</td><td>&quot;Doris&quot;</td><td>&quot;Lopez&quot;</td><td>&quot;dlopez1a@sphinn.com&quot;</td></tr><tr><td>48</td><td>&quot;Susan&quot;</td><td>&quot;Nichols&quot;</td><td>&quot;snichols1b@freewebs.com&quot;</td></tr><tr><td>49</td><td>&quot;Wanda&quot;</td><td>&quot;Ferguson&quot;</td><td>&quot;wferguson1c@yahoo.co.jp&quot;</td></tr><tr><td>50</td><td>&quot;Andrea&quot;</td><td>&quot;Pierce&quot;</td><td>&quot;apierce1d@google.co.uk&quot;</td></tr></tbody></table></div>"
      ],
      "text/plain": [
       "shape: (50, 4)\n",
       "┌─────┬────────────┬───────────┬────────────────────────────┐\n",
       "│ id  ┆ first_name ┆ last_name ┆ email                      │\n",
       "│ --- ┆ ---        ┆ ---       ┆ ---                        │\n",
       "│ i64 ┆ str        ┆ str       ┆ str                        │\n",
       "╞═════╪════════════╪═══════════╪════════════════════════════╡\n",
       "│ 1   ┆ Jack       ┆ Hunter    ┆ jhunter0@pbs.org           │\n",
       "│ 2   ┆ Kathryn    ┆ Walker    ┆ kwalker1@ezinearticles.com │\n",
       "│ 3   ┆ Gerald     ┆ Ryan      ┆ gryan2@com.com             │\n",
       "│ 4   ┆ Bonnie     ┆ Spencer   ┆ bspencer3@ameblo.jp        │\n",
       "│ 5   ┆ Harold     ┆ Taylor    ┆ htaylor4@people.com.cn     │\n",
       "│ …   ┆ …          ┆ …         ┆ …                          │\n",
       "│ 46  ┆ Anthony    ┆ Garcia    ┆ agarcia19@flavors.me       │\n",
       "│ 47  ┆ Doris      ┆ Lopez     ┆ dlopez1a@sphinn.com        │\n",
       "│ 48  ┆ Susan      ┆ Nichols   ┆ snichols1b@freewebs.com    │\n",
       "│ 49  ┆ Wanda      ┆ Ferguson  ┆ wferguson1c@yahoo.co.jp    │\n",
       "│ 50  ┆ Andrea     ┆ Pierce    ┆ apierce1d@google.co.uk     │\n",
       "└─────┴────────────┴───────────┴────────────────────────────┘"
      ]
     },
     "execution_count": 24,
     "metadata": {},
     "output_type": "execute_result"
    }
   ],
   "source": [
    "# Read the parquet file\n",
    "df = pl.read_parquet('integration_tests/public_data/parquet/section=a/people_a.parquet')\n",
    "df"
   ]
  },
  {
   "cell_type": "code",
   "execution_count": 25,
   "metadata": {},
   "outputs": [
    {
     "data": {
      "text/html": [
       "<div><style>\n",
       ".dataframe > thead > tr,\n",
       ".dataframe > tbody > tr {\n",
       "  text-align: right;\n",
       "  white-space: pre-wrap;\n",
       "}\n",
       "</style>\n",
       "<small>shape: (50, 4)</small><table border=\"1\" class=\"dataframe\"><thead><tr><th>Id</th><th>First_Name</th><th>Last_Name</th><th>Email</th></tr><tr><td>i64</td><td>str</td><td>str</td><td>str</td></tr></thead><tbody><tr><td>1</td><td>&quot;Jack&quot;</td><td>&quot;Hunter&quot;</td><td>&quot;jhunter0@pbs.org&quot;</td></tr><tr><td>2</td><td>&quot;Kathryn&quot;</td><td>&quot;Walker&quot;</td><td>&quot;kwalker1@ezinearticles.com&quot;</td></tr><tr><td>3</td><td>&quot;Gerald&quot;</td><td>&quot;Ryan&quot;</td><td>&quot;gryan2@com.com&quot;</td></tr><tr><td>4</td><td>&quot;Bonnie&quot;</td><td>&quot;Spencer&quot;</td><td>&quot;bspencer3@ameblo.jp&quot;</td></tr><tr><td>5</td><td>&quot;Harold&quot;</td><td>&quot;Taylor&quot;</td><td>&quot;htaylor4@people.com.cn&quot;</td></tr><tr><td>&hellip;</td><td>&hellip;</td><td>&hellip;</td><td>&hellip;</td></tr><tr><td>46</td><td>&quot;Anthony&quot;</td><td>&quot;Garcia&quot;</td><td>&quot;agarcia19@flavors.me&quot;</td></tr><tr><td>47</td><td>&quot;Doris&quot;</td><td>&quot;Lopez&quot;</td><td>&quot;dlopez1a@sphinn.com&quot;</td></tr><tr><td>48</td><td>&quot;Susan&quot;</td><td>&quot;Nichols&quot;</td><td>&quot;snichols1b@freewebs.com&quot;</td></tr><tr><td>49</td><td>&quot;Wanda&quot;</td><td>&quot;Ferguson&quot;</td><td>&quot;wferguson1c@yahoo.co.jp&quot;</td></tr><tr><td>50</td><td>&quot;Andrea&quot;</td><td>&quot;Pierce&quot;</td><td>&quot;apierce1d@google.co.uk&quot;</td></tr></tbody></table></div>"
      ],
      "text/plain": [
       "shape: (50, 4)\n",
       "┌─────┬────────────┬───────────┬────────────────────────────┐\n",
       "│ Id  ┆ First_Name ┆ Last_Name ┆ Email                      │\n",
       "│ --- ┆ ---        ┆ ---       ┆ ---                        │\n",
       "│ i64 ┆ str        ┆ str       ┆ str                        │\n",
       "╞═════╪════════════╪═══════════╪════════════════════════════╡\n",
       "│ 1   ┆ Jack       ┆ Hunter    ┆ jhunter0@pbs.org           │\n",
       "│ 2   ┆ Kathryn    ┆ Walker    ┆ kwalker1@ezinearticles.com │\n",
       "│ 3   ┆ Gerald     ┆ Ryan      ┆ gryan2@com.com             │\n",
       "│ 4   ┆ Bonnie     ┆ Spencer   ┆ bspencer3@ameblo.jp        │\n",
       "│ 5   ┆ Harold     ┆ Taylor    ┆ htaylor4@people.com.cn     │\n",
       "│ …   ┆ …          ┆ …         ┆ …                          │\n",
       "│ 46  ┆ Anthony    ┆ Garcia    ┆ agarcia19@flavors.me       │\n",
       "│ 47  ┆ Doris      ┆ Lopez     ┆ dlopez1a@sphinn.com        │\n",
       "│ 48  ┆ Susan      ┆ Nichols   ┆ snichols1b@freewebs.com    │\n",
       "│ 49  ┆ Wanda      ┆ Ferguson  ┆ wferguson1c@yahoo.co.jp    │\n",
       "│ 50  ┆ Andrea     ┆ Pierce    ┆ apierce1d@google.co.uk     │\n",
       "└─────┴────────────┴───────────┴────────────────────────────┘"
      ]
     },
     "execution_count": 25,
     "metadata": {},
     "output_type": "execute_result"
    }
   ],
   "source": [
    "new__col_dict = {'id':'Id', 'first_name':'First_Name', 'last_name':'Last_Name', 'email':'Email'}\n",
    "df_rename = df.rename(new_dict)\n",
    "df_rename"
   ]
  },
  {
   "cell_type": "code",
   "execution_count": 26,
   "metadata": {},
   "outputs": [],
   "source": [
    "fpath = 'integration_tests/public_data/parquet{}/section={}/people_{}.parquet'"
   ]
  },
  {
   "cell_type": "code",
   "execution_count": 28,
   "metadata": {},
   "outputs": [
    {
     "data": {
      "text/html": [
       "<div><style>\n",
       ".dataframe > thead > tr,\n",
       ".dataframe > tbody > tr {\n",
       "  text-align: right;\n",
       "  white-space: pre-wrap;\n",
       "}\n",
       "</style>\n",
       "<small>shape: (50, 4)</small><table border=\"1\" class=\"dataframe\"><thead><tr><th>Id</th><th>First_Name</th><th>Last_Name</th><th>Email</th></tr><tr><td>i64</td><td>str</td><td>str</td><td>str</td></tr></thead><tbody><tr><td>1</td><td>&quot;Jack&quot;</td><td>&quot;Hunter&quot;</td><td>&quot;jhunter0@pbs.org&quot;</td></tr><tr><td>2</td><td>&quot;Kathryn&quot;</td><td>&quot;Walker&quot;</td><td>&quot;kwalker1@ezinearticles.com&quot;</td></tr><tr><td>3</td><td>&quot;Gerald&quot;</td><td>&quot;Ryan&quot;</td><td>&quot;gryan2@com.com&quot;</td></tr><tr><td>4</td><td>&quot;Bonnie&quot;</td><td>&quot;Spencer&quot;</td><td>&quot;bspencer3@ameblo.jp&quot;</td></tr><tr><td>5</td><td>&quot;Harold&quot;</td><td>&quot;Taylor&quot;</td><td>&quot;htaylor4@people.com.cn&quot;</td></tr><tr><td>&hellip;</td><td>&hellip;</td><td>&hellip;</td><td>&hellip;</td></tr><tr><td>46</td><td>&quot;Anthony&quot;</td><td>&quot;Garcia&quot;</td><td>&quot;agarcia19@flavors.me&quot;</td></tr><tr><td>47</td><td>&quot;Doris&quot;</td><td>&quot;Lopez&quot;</td><td>&quot;dlopez1a@sphinn.com&quot;</td></tr><tr><td>48</td><td>&quot;Susan&quot;</td><td>&quot;Nichols&quot;</td><td>&quot;snichols1b@freewebs.com&quot;</td></tr><tr><td>49</td><td>&quot;Wanda&quot;</td><td>&quot;Ferguson&quot;</td><td>&quot;wferguson1c@yahoo.co.jp&quot;</td></tr><tr><td>50</td><td>&quot;Andrea&quot;</td><td>&quot;Pierce&quot;</td><td>&quot;apierce1d@google.co.uk&quot;</td></tr></tbody></table></div>"
      ],
      "text/plain": [
       "shape: (50, 4)\n",
       "┌─────┬────────────┬───────────┬────────────────────────────┐\n",
       "│ Id  ┆ First_Name ┆ Last_Name ┆ Email                      │\n",
       "│ --- ┆ ---        ┆ ---       ┆ ---                        │\n",
       "│ i64 ┆ str        ┆ str       ┆ str                        │\n",
       "╞═════╪════════════╪═══════════╪════════════════════════════╡\n",
       "│ 1   ┆ Jack       ┆ Hunter    ┆ jhunter0@pbs.org           │\n",
       "│ 2   ┆ Kathryn    ┆ Walker    ┆ kwalker1@ezinearticles.com │\n",
       "│ 3   ┆ Gerald     ┆ Ryan      ┆ gryan2@com.com             │\n",
       "│ 4   ┆ Bonnie     ┆ Spencer   ┆ bspencer3@ameblo.jp        │\n",
       "│ 5   ┆ Harold     ┆ Taylor    ┆ htaylor4@people.com.cn     │\n",
       "│ …   ┆ …          ┆ …         ┆ …                          │\n",
       "│ 46  ┆ Anthony    ┆ Garcia    ┆ agarcia19@flavors.me       │\n",
       "│ 47  ┆ Doris      ┆ Lopez     ┆ dlopez1a@sphinn.com        │\n",
       "│ 48  ┆ Susan      ┆ Nichols   ┆ snichols1b@freewebs.com    │\n",
       "│ 49  ┆ Wanda      ┆ Ferguson  ┆ wferguson1c@yahoo.co.jp    │\n",
       "│ 50  ┆ Andrea     ┆ Pierce    ┆ apierce1d@google.co.uk     │\n",
       "└─────┴────────────┴───────────┴────────────────────────────┘"
      ]
     },
     "execution_count": 28,
     "metadata": {},
     "output_type": "execute_result"
    }
   ],
   "source": [
    "os.makedirs(os.path.dirname(fpath.format('_capitalized', 'a', 'a')), exist_ok=True)\n",
    "\n",
    "df_a = (pl.read_parquet(fpath.format('', 'a', 'a'))\n",
    "    .rename(new__col_dict)\n",
    "    # .write_parquet(fpath.format('_capitalized', 'a', 'a'))\n",
    ")\n",
    "df_a.write_parquet(fpath.format('_capitalized', 'a', 'a'))\n",
    "df_a"
   ]
  },
  {
   "cell_type": "code",
   "execution_count": 33,
   "metadata": {},
   "outputs": [
    {
     "data": {
      "text/html": [
       "<div><style>\n",
       ".dataframe > thead > tr,\n",
       ".dataframe > tbody > tr {\n",
       "  text-align: right;\n",
       "  white-space: pre-wrap;\n",
       "}\n",
       "</style>\n",
       "<small>shape: (50, 4)</small><table border=\"1\" class=\"dataframe\"><thead><tr><th>Id</th><th>First_Name</th><th>Last_Name</th><th>Email</th></tr><tr><td>i64</td><td>str</td><td>str</td><td>str</td></tr></thead><tbody><tr><td>51</td><td>&quot;Lawrence&quot;</td><td>&quot;Phillips&quot;</td><td>&quot;lphillips1e@jugem.jp&quot;</td></tr><tr><td>52</td><td>&quot;Judy&quot;</td><td>&quot;Gilbert&quot;</td><td>&quot;jgilbert1f@multiply.com&quot;</td></tr><tr><td>53</td><td>&quot;Eric&quot;</td><td>&quot;Williams&quot;</td><td>&quot;ewilliams1g@joomla.org&quot;</td></tr><tr><td>54</td><td>&quot;Ralph&quot;</td><td>&quot;Romero&quot;</td><td>&quot;rromero1h@sogou.com&quot;</td></tr><tr><td>55</td><td>&quot;Jean&quot;</td><td>&quot;Wilson&quot;</td><td>&quot;jwilson1i@ocn.ne.jp&quot;</td></tr><tr><td>&hellip;</td><td>&hellip;</td><td>&hellip;</td><td>&hellip;</td></tr><tr><td>96</td><td>&quot;Adam&quot;</td><td>&quot;Greene&quot;</td><td>&quot;agreene2n@fastcompany.com&quot;</td></tr><tr><td>97</td><td>&quot;Earl&quot;</td><td>&quot;Sanders&quot;</td><td>&quot;esanders2o@hc360.com&quot;</td></tr><tr><td>98</td><td>&quot;Angela&quot;</td><td>&quot;Brooks&quot;</td><td>&quot;abrooks2p@mtv.com&quot;</td></tr><tr><td>99</td><td>&quot;Harold&quot;</td><td>&quot;Foster&quot;</td><td>&quot;hfoster2q@privacy.gov.au&quot;</td></tr><tr><td>100</td><td>&quot;Carl&quot;</td><td>&quot;Meyer&quot;</td><td>&quot;cmeyer2r@disqus.com&quot;</td></tr></tbody></table></div>"
      ],
      "text/plain": [
       "shape: (50, 4)\n",
       "┌─────┬────────────┬───────────┬───────────────────────────┐\n",
       "│ Id  ┆ First_Name ┆ Last_Name ┆ Email                     │\n",
       "│ --- ┆ ---        ┆ ---       ┆ ---                       │\n",
       "│ i64 ┆ str        ┆ str       ┆ str                       │\n",
       "╞═════╪════════════╪═══════════╪═══════════════════════════╡\n",
       "│ 51  ┆ Lawrence   ┆ Phillips  ┆ lphillips1e@jugem.jp      │\n",
       "│ 52  ┆ Judy       ┆ Gilbert   ┆ jgilbert1f@multiply.com   │\n",
       "│ 53  ┆ Eric       ┆ Williams  ┆ ewilliams1g@joomla.org    │\n",
       "│ 54  ┆ Ralph      ┆ Romero    ┆ rromero1h@sogou.com       │\n",
       "│ 55  ┆ Jean       ┆ Wilson    ┆ jwilson1i@ocn.ne.jp       │\n",
       "│ …   ┆ …          ┆ …         ┆ …                         │\n",
       "│ 96  ┆ Adam       ┆ Greene    ┆ agreene2n@fastcompany.com │\n",
       "│ 97  ┆ Earl       ┆ Sanders   ┆ esanders2o@hc360.com      │\n",
       "│ 98  ┆ Angela     ┆ Brooks    ┆ abrooks2p@mtv.com         │\n",
       "│ 99  ┆ Harold     ┆ Foster    ┆ hfoster2q@privacy.gov.au  │\n",
       "│ 100 ┆ Carl       ┆ Meyer     ┆ cmeyer2r@disqus.com       │\n",
       "└─────┴────────────┴───────────┴───────────────────────────┘"
      ]
     },
     "execution_count": 33,
     "metadata": {},
     "output_type": "execute_result"
    }
   ],
   "source": [
    "os.makedirs(os.path.dirname(fpath.format('_capitalized', 'b', 'b')), exist_ok=True)\n",
    "\n",
    "df_b = (pl.read_parquet(fpath.format('', 'b', 'b'))\n",
    "    .rename(new__col_dict)\n",
    ")\n",
    "df_b.write_parquet(fpath.format('_capitalized', 'b', 'b'))\n",
    "df_b"
   ]
  },
  {
   "cell_type": "code",
   "execution_count": 32,
   "metadata": {},
   "outputs": [
    {
     "data": {
      "text/html": [
       "<div><style>\n",
       ".dataframe > thead > tr,\n",
       ".dataframe > tbody > tr {\n",
       "  text-align: right;\n",
       "  white-space: pre-wrap;\n",
       "}\n",
       "</style>\n",
       "<small>shape: (50, 4)</small><table border=\"1\" class=\"dataframe\"><thead><tr><th>Id</th><th>First_Name</th><th>Last_Name</th><th>Email</th></tr><tr><td>i64</td><td>str</td><td>str</td><td>str</td></tr></thead><tbody><tr><td>101</td><td>&quot;Michael&quot;</td><td>&quot;Perez&quot;</td><td>&quot;mperez0@chronoengine.com&quot;</td></tr><tr><td>102</td><td>&quot;Shawn&quot;</td><td>&quot;Mccoy&quot;</td><td>&quot;smccoy1@reddit.com&quot;</td></tr><tr><td>103</td><td>&quot;Kathleen&quot;</td><td>&quot;Payne&quot;</td><td>&quot;kpayne2@cargocollective.com&quot;</td></tr><tr><td>104</td><td>&quot;Jimmy&quot;</td><td>&quot;Cooper&quot;</td><td>&quot;jcooper3@cargocollective.com&quot;</td></tr><tr><td>105</td><td>&quot;Katherine&quot;</td><td>&quot;Rice&quot;</td><td>&quot;krice4@typepad.com&quot;</td></tr><tr><td>&hellip;</td><td>&hellip;</td><td>&hellip;</td><td>&hellip;</td></tr><tr><td>146</td><td>&quot;Norma&quot;</td><td>&quot;Cruz&quot;</td><td>&quot;ncruz19@si.edu&quot;</td></tr><tr><td>147</td><td>&quot;Marie&quot;</td><td>&quot;Peters&quot;</td><td>&quot;mpeters1a@mlb.com&quot;</td></tr><tr><td>148</td><td>&quot;Lillian&quot;</td><td>&quot;Carr&quot;</td><td>&quot;lcarr1b@typepad.com&quot;</td></tr><tr><td>149</td><td>&quot;Judy&quot;</td><td>&quot;Nichols&quot;</td><td>&quot;jnichols1c@t-online.de&quot;</td></tr><tr><td>150</td><td>&quot;Billy&quot;</td><td>&quot;Long&quot;</td><td>&quot;blong1d@yahoo.com&quot;</td></tr></tbody></table></div>"
      ],
      "text/plain": [
       "shape: (50, 4)\n",
       "┌─────┬────────────┬───────────┬──────────────────────────────┐\n",
       "│ Id  ┆ First_Name ┆ Last_Name ┆ Email                        │\n",
       "│ --- ┆ ---        ┆ ---       ┆ ---                          │\n",
       "│ i64 ┆ str        ┆ str       ┆ str                          │\n",
       "╞═════╪════════════╪═══════════╪══════════════════════════════╡\n",
       "│ 101 ┆ Michael    ┆ Perez     ┆ mperez0@chronoengine.com     │\n",
       "│ 102 ┆ Shawn      ┆ Mccoy     ┆ smccoy1@reddit.com           │\n",
       "│ 103 ┆ Kathleen   ┆ Payne     ┆ kpayne2@cargocollective.com  │\n",
       "│ 104 ┆ Jimmy      ┆ Cooper    ┆ jcooper3@cargocollective.com │\n",
       "│ 105 ┆ Katherine  ┆ Rice      ┆ krice4@typepad.com           │\n",
       "│ …   ┆ …          ┆ …         ┆ …                            │\n",
       "│ 146 ┆ Norma      ┆ Cruz      ┆ ncruz19@si.edu               │\n",
       "│ 147 ┆ Marie      ┆ Peters    ┆ mpeters1a@mlb.com            │\n",
       "│ 148 ┆ Lillian    ┆ Carr      ┆ lcarr1b@typepad.com          │\n",
       "│ 149 ┆ Judy       ┆ Nichols   ┆ jnichols1c@t-online.de       │\n",
       "│ 150 ┆ Billy      ┆ Long      ┆ blong1d@yahoo.com            │\n",
       "└─────┴────────────┴───────────┴──────────────────────────────┘"
      ]
     },
     "execution_count": 32,
     "metadata": {},
     "output_type": "execute_result"
    }
   ],
   "source": [
    "os.makedirs(os.path.dirname(fpath.format('_capitalized', 'c', 'c')), exist_ok=True)\n",
    "\n",
    "df_c = (pl.read_parquet(fpath.format('', 'c', 'c'))\n",
    "    .rename(new__col_dict)\n",
    ")\n",
    "df_c.write_parquet(fpath.format('_capitalized', 'c', 'c'))\n",
    "df_c"
   ]
  },
  {
   "cell_type": "code",
   "execution_count": 31,
   "metadata": {},
   "outputs": [
    {
     "data": {
      "text/html": [
       "<div><style>\n",
       ".dataframe > thead > tr,\n",
       ".dataframe > tbody > tr {\n",
       "  text-align: right;\n",
       "  white-space: pre-wrap;\n",
       "}\n",
       "</style>\n",
       "<small>shape: (50, 4)</small><table border=\"1\" class=\"dataframe\"><thead><tr><th>Id</th><th>First_Name</th><th>Last_Name</th><th>Email</th></tr><tr><td>i64</td><td>str</td><td>str</td><td>str</td></tr></thead><tbody><tr><td>151</td><td>&quot;Howard&quot;</td><td>&quot;Reid&quot;</td><td>&quot;hreid1e@exblog.jp&quot;</td></tr><tr><td>152</td><td>&quot;Laura&quot;</td><td>&quot;Ferguson&quot;</td><td>&quot;lferguson1f@tuttocitta.it&quot;</td></tr><tr><td>153</td><td>&quot;Anne&quot;</td><td>&quot;Bailey&quot;</td><td>&quot;abailey1g@geocities.com&quot;</td></tr><tr><td>154</td><td>&quot;Rose&quot;</td><td>&quot;Morgan&quot;</td><td>&quot;rmorgan1h@ehow.com&quot;</td></tr><tr><td>155</td><td>&quot;Nicholas&quot;</td><td>&quot;Reyes&quot;</td><td>&quot;nreyes1i@google.ru&quot;</td></tr><tr><td>&hellip;</td><td>&hellip;</td><td>&hellip;</td><td>&hellip;</td></tr><tr><td>196</td><td>&quot;Jacqueline&quot;</td><td>&quot;Anderson&quot;</td><td>&quot;janderson2n@cargocollective.co…</td></tr><tr><td>197</td><td>&quot;Shirley&quot;</td><td>&quot;Diaz&quot;</td><td>&quot;sdiaz2o@ucla.edu&quot;</td></tr><tr><td>198</td><td>&quot;Nicole&quot;</td><td>&quot;Meyer&quot;</td><td>&quot;nmeyer2p@flickr.com&quot;</td></tr><tr><td>199</td><td>&quot;Mary&quot;</td><td>&quot;Gray&quot;</td><td>&quot;mgray2q@constantcontact.com&quot;</td></tr><tr><td>200</td><td>&quot;Jean&quot;</td><td>&quot;Mcdonald&quot;</td><td>&quot;jmcdonald2r@baidu.com&quot;</td></tr></tbody></table></div>"
      ],
      "text/plain": [
       "shape: (50, 4)\n",
       "┌─────┬────────────┬───────────┬─────────────────────────────────┐\n",
       "│ Id  ┆ First_Name ┆ Last_Name ┆ Email                           │\n",
       "│ --- ┆ ---        ┆ ---       ┆ ---                             │\n",
       "│ i64 ┆ str        ┆ str       ┆ str                             │\n",
       "╞═════╪════════════╪═══════════╪═════════════════════════════════╡\n",
       "│ 151 ┆ Howard     ┆ Reid      ┆ hreid1e@exblog.jp               │\n",
       "│ 152 ┆ Laura      ┆ Ferguson  ┆ lferguson1f@tuttocitta.it       │\n",
       "│ 153 ┆ Anne       ┆ Bailey    ┆ abailey1g@geocities.com         │\n",
       "│ 154 ┆ Rose       ┆ Morgan    ┆ rmorgan1h@ehow.com              │\n",
       "│ 155 ┆ Nicholas   ┆ Reyes     ┆ nreyes1i@google.ru              │\n",
       "│ …   ┆ …          ┆ …         ┆ …                               │\n",
       "│ 196 ┆ Jacqueline ┆ Anderson  ┆ janderson2n@cargocollective.co… │\n",
       "│ 197 ┆ Shirley    ┆ Diaz      ┆ sdiaz2o@ucla.edu                │\n",
       "│ 198 ┆ Nicole     ┆ Meyer     ┆ nmeyer2p@flickr.com             │\n",
       "│ 199 ┆ Mary       ┆ Gray      ┆ mgray2q@constantcontact.com     │\n",
       "│ 200 ┆ Jean       ┆ Mcdonald  ┆ jmcdonald2r@baidu.com           │\n",
       "└─────┴────────────┴───────────┴─────────────────────────────────┘"
      ]
     },
     "execution_count": 31,
     "metadata": {},
     "output_type": "execute_result"
    }
   ],
   "source": [
    "os.makedirs(os.path.dirname(fpath.format('_capitalized', 'd', 'd')), exist_ok=True)\n",
    "\n",
    "df_d = (pl.read_parquet(fpath.format('', 'd', 'd'))\n",
    "    .rename(new__col_dict)\n",
    "   \n",
    ")\n",
    "df_d.write_parquet(fpath.format('_capitalized', 'd', 'd'))\n",
    "df_d"
   ]
  }
 ],
 "metadata": {
  "kernelspec": {
   "display_name": "dbt",
   "language": "python",
   "name": "python3"
  },
  "language_info": {
   "codemirror_mode": {
    "name": "ipython",
    "version": 3
   },
   "file_extension": ".py",
   "mimetype": "text/x-python",
   "name": "python",
   "nbconvert_exporter": "python",
   "pygments_lexer": "ipython3",
   "version": "3.11.8"
  }
 },
 "nbformat": 4,
 "nbformat_minor": 2
}
